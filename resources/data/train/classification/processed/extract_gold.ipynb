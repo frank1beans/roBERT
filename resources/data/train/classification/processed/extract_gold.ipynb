{
 "cells": [
  {
   "cell_type": "code",
   "execution_count": 2,
   "id": "81f135de",
   "metadata": {},
   "outputs": [],
   "source": [
    "import json, numpy as np, pandas as pd\n",
    "records = [json.loads(line) for line in open(\"dataset_lim.jsonl\", encoding=\"utf-8\")]\n",
    "for rec in records:\n",
    "    props = rec.get(\"properties\", {})\n",
    "    filled = sum(1 for p in props.values() if p and p.get(\"value\") not in (None, \"\", []))\n",
    "    rec[\"_filled_props\"] = filled\n",
    "df = pd.DataFrame(records)\n",
    "top = df.sort_values(\"_filled_props\", ascending=False).head(1000)  # adjust N\n",
    "top[[\"_filled_props\",\"categoria\",\"text\", \"super\", \"cat\", \"properties\"]].to_json(\"top_gold.jsonl\", lines=True, orient=\"records\", force_ascii=False, indent=2)"
   ]
  }
 ],
 "metadata": {
  "kernelspec": {
   "display_name": "base",
   "language": "python",
   "name": "python3"
  },
  "language_info": {
   "codemirror_mode": {
    "name": "ipython",
    "version": 3
   },
   "file_extension": ".py",
   "mimetype": "text/x-python",
   "name": "python",
   "nbconvert_exporter": "python",
   "pygments_lexer": "ipython3",
   "version": "3.13.5"
  }
 },
 "nbformat": 4,
 "nbformat_minor": 5
}
