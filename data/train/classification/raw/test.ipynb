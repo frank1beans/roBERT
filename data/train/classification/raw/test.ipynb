{
 "cells": [
  {
   "cell_type": "code",
   "execution_count": 46,
   "id": "43a40adc",
   "metadata": {},
   "outputs": [],
   "source": [
    "import json\n",
    "import pandas as pd\n",
    "\n",
    "# Carica il file JSONL in un DataFrame\n",
    "with open('dataset.jsonl', 'r', encoding='utf-8') as f:\n",
    "    data = [json.loads(line) for line in f]\n",
    "\n",
    "df = pd.DataFrame(data)\n"
   ]
  },
  {
   "cell_type": "code",
   "execution_count": 47,
   "id": "a2efbc93",
   "metadata": {},
   "outputs": [],
   "source": [
    "#Indico le supercategorie di interesse\n",
    "\n",
    "g_keys = [\"Opere da cartongessista\", \n",
    "          \"Opere di rivestimento\", \n",
    "          \"Opere di pavimentazione\", \n",
    "          \"Opere da serramentista\", \n",
    "          \"Controsoffitti\", \n",
    "          \"Opere da falegname\",\n",
    "          \"Apparecchi sanitari e accessori\"]"
   ]
  },
  {
   "cell_type": "code",
   "execution_count": 48,
   "id": "36ac9cb2",
   "metadata": {},
   "outputs": [],
   "source": [
    "#Creazione maschera e dataframe limitato\n",
    "\n",
    "mask = df[\"super\"].isin(g_keys)\n",
    "df_lim = df[mask]"
   ]
  },
  {
   "cell_type": "code",
   "execution_count": 49,
   "id": "2d153c75",
   "metadata": {},
   "outputs": [],
   "source": [
    "#Normalizzazione testo\n",
    "def normalize_text(s: str) -> str:\n",
    "    if not isinstance(s, str):\n",
    "        s = \"\" if pd.isna(s) else str(s)\n",
    "    s =s.strip()\n",
    "    s = \" \".join(s.split())\n",
    "\n",
    "    return s\n",
    "df_lim = df_lim.copy()\n",
    "df_lim[\"text_norm\"] = df_lim[\"text\"].map(normalize_text)"
   ]
  },
  {
   "cell_type": "code",
   "execution_count": 50,
   "id": "aafc6bdc",
   "metadata": {},
   "outputs": [
    {
     "name": "stderr",
     "output_type": "stream",
     "text": [
      "C:\\Users\\f.biggi\\AppData\\Local\\Temp\\ipykernel_12940\\2174041924.py:23: FutureWarning: DataFrameGroupBy.apply operated on the grouping columns. This behavior is deprecated, and in a future version of pandas the grouping columns will be excluded from the operation. Either pass `include_groups=False` to exclude the groupings or explicitly select the grouping columns after groupby to silence this warning.\n",
      "  .apply(lambda g: dedup_prefix_group(g, text_col=\"text_norm\"))\n"
     ]
    }
   ],
   "source": [
    "#Dedup\n",
    "#Creazione colonna lunghezza testo e ordinamento\n",
    "def dedup_prefix_group(g: pd.DataFrame, text_col) -> pd.DataFrame:\n",
    "    g = g.copy()\n",
    "    g[\"_len\"] = g[text_col].astype(str).str.len()\n",
    "    g = g.sort_values(\"_len\", ascending = False)\n",
    "\n",
    "    keep_idx = []\n",
    "    keep_texts = []\n",
    "    for idx, t in g[text_col].items():\n",
    "        if any(k.startswith(t) for k in keep_texts):\n",
    "            continue\n",
    "        keep_idx.append(idx)\n",
    "        keep_texts.append(t)\n",
    "    \n",
    "    out= g.loc[keep_idx].drop(columns=[\"_len\"])\n",
    "    return out.sort_index()\n",
    "\n",
    "group_cols = [\"super\", \"cat\"]\n",
    "\n",
    "df_clean = (df_lim\n",
    "            .groupby(group_cols, group_keys = False)\n",
    "            .apply(lambda g: dedup_prefix_group(g, text_col=\"text_norm\"))\n",
    "            .drop(columns=[\"text_norm\"])\n",
    "            .reset_index(drop=True)\n",
    ")"
   ]
  },
  {
   "cell_type": "code",
   "execution_count": 52,
   "id": "4e892e15",
   "metadata": {},
   "outputs": [
    {
     "name": "stdout",
     "output_type": "stream",
     "text": [
      "<class 'pandas.core.frame.DataFrame'>\n",
      "RangeIndex: 3192 entries, 0 to 3191\n",
      "Data columns (total 3 columns):\n",
      " #   Column  Non-Null Count  Dtype \n",
      "---  ------  --------------  ----- \n",
      " 0   text    3192 non-null   object\n",
      " 1   super   3192 non-null   object\n",
      " 2   cat     3192 non-null   object\n",
      "dtypes: object(3)\n",
      "memory usage: 74.9+ KB\n"
     ]
    }
   ],
   "source": [
    "df_clean.info()"
   ]
  },
  {
   "cell_type": "code",
   "execution_count": 53,
   "id": "b6fb8df7",
   "metadata": {},
   "outputs": [],
   "source": [
    "df_clean.to_json(\n",
    "    \"dataset_lim.jsonl\",\n",
    "    lines = True,\n",
    "    force_ascii = False,\n",
    "    orient = \"records\",\n",
    "    index = False\n",
    ")"
   ]
  }
 ],
 "metadata": {
  "kernelspec": {
   "display_name": "base",
   "language": "python",
   "name": "python3"
  },
  "language_info": {
   "codemirror_mode": {
    "name": "ipython",
    "version": 3
   },
   "file_extension": ".py",
   "mimetype": "text/x-python",
   "name": "python",
   "nbconvert_exporter": "python",
   "pygments_lexer": "ipython3",
   "version": "3.13.5"
  }
 },
 "nbformat": 4,
 "nbformat_minor": 5
}
